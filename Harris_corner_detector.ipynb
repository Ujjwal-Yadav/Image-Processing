{
  "nbformat": 4,
  "nbformat_minor": 0,
  "metadata": {
    "colab": {
      "name": "Harris_corner_detector.ipynb",
      "provenance": []
    },
    "kernelspec": {
      "name": "python3",
      "display_name": "Python 3"
    }
  },
  "cells": [
    {
      "cell_type": "code",
      "metadata": {
        "id": "CpRZbM_W7Xg0"
      },
      "source": [
        "import sys\n",
        "import cv2\n",
        "import os\n",
        "import numpy as np\n",
        "import matplotlib.pyplot as plt\n",
        "import matplotlib.image as mping\n",
        "from PIL import Image\n",
        "import scipy.ndimage as ndimage\n",
        "from scipy.ndimage.filters import convolve"
      ],
      "execution_count": 18,
      "outputs": []
    },
    {
      "cell_type": "code",
      "metadata": {
        "id": "qthcwmX9GF2r"
      },
      "source": [
        "#a=[(1,2,3.0),(3,4,2.0),(9,8,1.0)]\n",
        "#sort_ind = np.argsort(np.array(a)[:,2])\n",
        "#print(sort_ind)\n",
        "#rev_ind=np.flip(sort_ind)\n",
        "#print(rev_ind)"
      ],
      "execution_count": 19,
      "outputs": []
    },
    {
      "cell_type": "code",
      "metadata": {
        "id": "EBMhh9rEOvw6",
        "outputId": "34002f7d-43f2-4192-82ee-566e3b037a66",
        "colab": {
          "base_uri": "https://localhost:8080/",
          "height": 269
        }
      },
      "source": [
        "#loading the image\n",
        "image=mping.imread('toy_image.jpg').astype('float64')\n",
        "image=image/255.0\n",
        "#plt.imshow(image)\n",
        "#plt.show()\n",
        "red_channel=image[:,:,0]\n",
        "green_channel=image[:,:,1]\n",
        "blue_channel=image[:,:,2]\n",
        "lum_image=((0.2989*red_channel) + (0.5870*green_channel) + (0.1140*blue_channel))\n",
        "#plt.imshow(image[:,:,2])\n",
        "#lum_image=cv2.GaussianBlur(lum_image,(5,5), 1 )\n",
        "plt.imshow(lum_image,cmap=plt.get_cmap('gray'))\n",
        "plt.show()"
      ],
      "execution_count": 66,
      "outputs": [
        {
          "output_type": "display_data",
          "data": {
            "image/png": "[encoded data removed]",
            "text/plain": [
              "<Figure size 432x288 with 1 Axes>"
            ]
          },
          "metadata": {
            "tags": [],
            "needs_background": "light"
          }
        }
      ]
    },
    {
      "cell_type": "code",
      "metadata": {
        "id": "dsZVpaJK7IoV"
      },
      "source": [
        "def get_gradient(image):\n",
        "  x_dir=np.asarray([[1,0,-1],[1,0,-1],[1,0,-1]],np.float64)\n",
        "  y_dir=np.asarray([[1,1,1],[0,0,0],[-1,-1,-1]],np.float64)\n",
        "  gradient_x=ndimage.convolve(image,x_dir)\n",
        "  gradient_y=ndimage.convolve(image,y_dir)\n",
        "  #magnitude_gradient=np.hypot(gradient_x,gradient_y)\n",
        "  #direction_gradient=np.arctan2(gradient_y,gradient_x)\n",
        "  #print(magnitude_gradient.shape)\n",
        "\n",
        "  return (gradient_x,gradient_y)\n",
        "\n"
      ],
      "execution_count": 59,
      "outputs": []
    },
    {
      "cell_type": "code",
      "metadata": {
        "id": "0BmuJHzZ1yIk"
      },
      "source": [
        "def get_corner_response(image,gradient_x,gradient_y):\n",
        "  h=gradient_x.shape[0]\n",
        "  w=gradient_x.shape[1]\n",
        "\n",
        "  gradient_x_2=np.zeros_like(gradient_x,np.float64)\n",
        "  gradient_y_2=np.zeros_like(gradient_y,np.float64)\n",
        "\n",
        "  gradient_xy=np.zeros_like(gradient_x,np.float64)\n",
        "  cov_matrix=np.zeros_like(image,np.float64)\n",
        "\n",
        "  for i in range(h):\n",
        "    for j in range(w):\n",
        "      gradient_x_2[i][j]=gradient_x[i][j]**2\n",
        "      gradient_y_2[i][j]=gradient_y[i][j]**2\n",
        "      gradient_xy[i][j]=gradient_x[i][j]*gradient_y[i][j]\n",
        "\n",
        "  m=4\n",
        "  k=0.04\n",
        "  for i in range(m,(h-m)):\n",
        "    for j in range(m,(w-m)):\n",
        "      mat_x_2=gradient_x_2[i-m : i+m+1, j-m : j+m+1]\n",
        "      mat_y_2=gradient_y_2[i-m : i+m+1, j-m : j+m+1]\n",
        "      mat_xy=gradient_xy[i-m : i+m+1, j-m : j+m+1]\n",
        "\n",
        "      sum_x_2=mat_x_2.sum()\n",
        "      sum_y_2=mat_y_2.sum()\n",
        "      sum_xy=mat_xy.sum()\n",
        "\n",
        "      e_value=(((sum_x_2*sum_y_2)-(sum_xy**2))-(k*((sum_x_2+sum_y_2)**2)))\n",
        "      cov_matrix[i][j]=e_value\n",
        "\n",
        "  \n",
        "  return cov_matrix\n",
        "\n",
        "    \n",
        "\n"
      ],
      "execution_count": 22,
      "outputs": []
    },
    {
      "cell_type": "code",
      "metadata": {
        "id": "SKmUzuXJ_IXc"
      },
      "source": [
        "def get_corner_threshold(image,cov_matrix,t_ratio):\n",
        "  max_response=cov_matrix.max()\n",
        "  t_value=t_ratio*max_response\n",
        "\n",
        "  h=image.shape[0]\n",
        "  w=image.shape[1]\n",
        "\n",
        "  list_corners=[]\n",
        "\n",
        "  for i in range(h):\n",
        "    for j in range(w):\n",
        "      if (cov_matrix[i][j]>t_value):\n",
        "        x=i\n",
        "        y=j\n",
        "        e_value=cov_matrix[i][j]\n",
        "        list_corners.append([x,y,e_value])\n",
        "\n",
        "  return list_corners\n",
        "\n",
        "  \n"
      ],
      "execution_count": 23,
      "outputs": []
    },
    {
      "cell_type": "code",
      "metadata": {
        "id": "x_MzywjJKZ3B"
      },
      "source": [
        "def check_neighbourhood(test_x,test_y,x,y):\n",
        "  if ((test_x==x+1) and (test_y==y+1)):\n",
        "    return True\n",
        "\n",
        "  elif ((test_x==x+1) and (test_y==y)):\n",
        "    return True\n",
        "\n",
        "  elif ((test_x==x+1) and (test_y==y-1)):\n",
        "    return True\n",
        "\n",
        "  elif ((test_x==x) and (test_y==y+1)):\n",
        "    return True\n",
        "\n",
        "  elif ((test_x==x) and (test_y==y)):\n",
        "    return True\n",
        "\n",
        "  elif ((test_x==x) and (test_y==y-1)):\n",
        "    return True\n",
        "\n",
        "  elif ((test_x==x-1) and (test_y==y+1)):\n",
        "    return True\n",
        "\n",
        "  elif ((test_x==x-1) and (test_y==y)):\n",
        "    return True\n",
        "\n",
        "  elif ((test_x==x-1) and (test_y==y-1)):\n",
        "    return True\n",
        "\n",
        "  else:\n",
        "    return False"
      ],
      "execution_count": 24,
      "outputs": []
    },
    {
      "cell_type": "code",
      "metadata": {
        "id": "s-p4_u5UCFlO"
      },
      "source": [
        "def sup_corners(list_corners):\n",
        "  indces_sorted=np.argsort(np.array(list_corners)[:,2])\n",
        "  indces_sorted=np.flip(indces_sorted)\n",
        "  list_final=[]\n",
        "  length=len(indces_sorted)\n",
        "  for i in range(length):\n",
        "    if (list_corners[indces_sorted[i]][0]!= -1):\n",
        "      x_cord=list_corners[indces_sorted[i]][0]\n",
        "      y_cord=list_corners[indces_sorted[i]][1]\n",
        "      e_value=list_corners[indces_sorted[i]][2]\n",
        "      list_final.append([x_cord,y_cord,e_value])\n",
        "      list_corners[indces_sorted[i]][0]=-1\n",
        "      list_corners[indces_sorted[i]][1]=-1\n",
        "      x=list_corners[indces_sorted[i]][0]\n",
        "      y=list_corners[indces_sorted[i]][1]\n",
        "\n",
        "      for j in range(len(list_corners)):\n",
        "        test_x=list_corners[j][0]\n",
        "        test_y=list_corners[j][1]\n",
        "\n",
        "        if (list_corners[j][0]!=-1) and (check_neighbourhood(test_x,test_y,x,y)):\n",
        "          list_corners[j][0]=-1\n",
        "          list_corners[j][1]=-1\n",
        "\n",
        "  \n",
        "\n",
        "  return list_final\n"
      ],
      "execution_count": 25,
      "outputs": []
    },
    {
      "cell_type": "code",
      "metadata": {
        "id": "8RPx_ENGMv0j"
      },
      "source": [
        "def mark_corners(image,list_final):\n",
        "  length=len(list_final)\n",
        "\n",
        "  output_image=image.copy()\n",
        "\n",
        "  for i in range(length):\n",
        "    x_cord=list_final[i][0]\n",
        "    y_cord=list_final[i][1]\n",
        "    x_cord=int(x_cord)\n",
        "    y_cord=int(y_cord)\n",
        "    output_image[x_cord][y_cord][0]=0.0\n",
        "    output_image[x_cord][y_cord][1]=1.0\n",
        "    output_image[x_cord][y_cord][2]=0.0\n",
        "\n",
        "    for j in range(y_cord-3 , y_cord+4):\n",
        "      output_image[x_cord][j][0]=0.0\n",
        "      output_image[x_cord][j][1]=1.0\n",
        "      output_image[x_cord][j][2]=0.0\n",
        "\n",
        "    for j in range(x_cord-3,x_cord+4):\n",
        "      output_image[j][y_cord][0]=0.0\n",
        "      output_image[j][y_cord][1]=1.0\n",
        "      output_image[j][y_cord][2]=0.0\n",
        "\n",
        "    cv2.circle(output_image, (x_cord, y_cord), 4, (0, 1, 0))\n",
        "\n",
        "  return output_image\n"
      ],
      "execution_count": 26,
      "outputs": []
    },
    {
      "cell_type": "code",
      "metadata": {
        "id": "NAGYPD4zPB-2"
      },
      "source": [
        "gradient_x,gradient_y=get_gradient(lum_image)\n",
        "cov_matrix= get_corner_response(lum_image,gradient_x,gradient_y)\n"
      ],
      "execution_count": 73,
      "outputs": []
    },
    {
      "cell_type": "code",
      "metadata": {
        "id": "Z9V6ro2gPcQg"
      },
      "source": [
        "list_corners=get_corner_threshold(lum_image,cov_matrix,0.40)"
      ],
      "execution_count": 74,
      "outputs": []
    },
    {
      "cell_type": "code",
      "metadata": {
        "id": "cwTsd00UQJOo",
        "outputId": "66377269-4eee-4abe-ef72-3cefe71ef778",
        "colab": {
          "base_uri": "https://localhost:8080/"
        }
      },
      "source": [
        "list_final=sup_corners(list_corners)\n",
        "print(len(list_final))\n",
        "# bird- 6354 final corners\n",
        "# plane - 1126 final corners\n",
        "# dog - 1343\n",
        "# einstein - 2025\n",
        "# plane- 209\n",
        "# toy- 6933"
      ],
      "execution_count": 75,
      "outputs": [
        {
          "output_type": "stream",
          "text": [
            "1558\n"
          ],
          "name": "stdout"
        }
      ]
    },
    {
      "cell_type": "code",
      "metadata": {
        "id": "ugzpu7AqXaeM"
      },
      "source": [
        "image=mping.imread('toy_image.jpg').astype('float64')\n",
        "image=image/255.0"
      ],
      "execution_count": 76,
      "outputs": []
    },
    {
      "cell_type": "code",
      "metadata": {
        "id": "2h1ik5bXQR6D",
        "outputId": "89cd5be8-2693-4fdf-ed56-f7185925d149",
        "colab": {
          "base_uri": "https://localhost:8080/",
          "height": 269
        }
      },
      "source": [
        "output_image=mark_corners(image,list_final)\n",
        "plt.imshow(output_image,cmap=plt.get_cmap('gray'))\n",
        "plt.show()"
      ],
      "execution_count": 77,
      "outputs": [
        {
          "output_type": "display_data",
          "data": {
            "image/png": "[encoded data removed]",
            "text/plain": [
              "<Figure size 432x288 with 1 Axes>"
            ]
          },
          "metadata": {
            "tags": [],
            "needs_background": "light"
          }
        }
      ]
    },
    {
      "cell_type": "code",
      "metadata": {
        "id": "n9elLHMbV1qv",
        "outputId": "a745c27a-45f3-4aa1-ec3b-d0e426051d2a",
        "colab": {
          "base_uri": "https://localhost:8080/",
          "height": 269
        }
      },
      "source": [
        "\n",
        "before_suppression=mark_corners(image,list_corners)\n",
        "plt.imshow(before_suppression,cmap=plt.get_cmap('gray'))\n",
        "plt.show()"
      ],
      "execution_count": 78,
      "outputs": [
        {
          "output_type": "display_data",
          "data": {
            "image/png": "[encoded data removed]",
            "text/plain": [
              "<Figure size 432x288 with 1 Axes>"
            ]
          },
          "metadata": {
            "tags": [],
            "needs_background": "light"
          }
        }
      ]
    }
  ]
}